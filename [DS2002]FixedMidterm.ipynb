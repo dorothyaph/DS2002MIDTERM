{
  "metadata": {
    "kernelspec": {
      "display_name": "Python (Pyodide)",
      "language": "python",
      "name": "python"
    },
    "language_info": {
      "codemirror_mode": {
        "name": "python",
        "version": 3
      },
      "file_extension": ".py",
      "mimetype": "text/x-python",
      "name": "python",
      "nbconvert_exporter": "python",
      "pygments_lexer": "ipython3",
      "version": "3.8"
    }
  },
  "nbformat_minor": 5,
  "nbformat": 4,
  "cells": [
    {
      "id": "96a32758-a290-44d3-9d24-05f1d2281c1b",
      "cell_type": "code",
      "source": "",
      "metadata": {
        "trusted": true
      },
      "outputs": [],
      "execution_count": null
    },
    {
      "id": "2d68f0df-d527-43f7-8681-01173ba74019",
      "cell_type": "markdown",
      "source": "%%python -m pip install pymongo\n!pip install sqlalchemy",
      "metadata": {}
    },
    {
      "id": "7b4c86d0-2b0d-4028-8c13-bc787cc943af",
      "cell_type": "code",
      "source": "# using python to perform ETL",
      "metadata": {
        "trusted": true
      },
      "outputs": [],
      "execution_count": null
    },
    {
      "id": "4f6848a9-ae77-4345-a6b4-d0b4c2ddcd4e",
      "cell_type": "code",
      "source": "import os\nimport pandas as pd\nfrom sqlalchemy import create_engine\nimport pymongo\n",
      "metadata": {
        "trusted": true
      },
      "outputs": [],
      "execution_count": null
    },
    {
      "id": "6c1fe82c-5dc9-4154-b3bf-b3a22b0c3dc2",
      "cell_type": "code",
      "source": "",
      "metadata": {
        "trusted": true
      },
      "outputs": [],
      "execution_count": null
    },
    {
      "id": "d3d3a60c-65e9-4166-8816-17d0a817f7fd",
      "cell_type": "code",
      "source": "import sqlalchemy\nimport pymongo\n\nprint(f\"Running SQL Alchemy Version: {sqlalchemy.__version__}\")\nprint(f\"Running PyMongo Version: {pymongo.__version__}\")\n",
      "metadata": {
        "trusted": true
      },
      "outputs": [],
      "execution_count": null
    },
    {
      "id": "60da59d8-5084-4db2-8302-317bd325f230",
      "cell_type": "code",
      "source": "mysql_args = {\n    \"uid\" : \"root\",\n    \"pwd\" : \"12WQ418bne_1\",\n    \"hostname\" : \"localhost\",\n    \"dbname\" : \"grocery_inventory_db\"\n}\n\n# The 'cluster_location' must either be \"atlas\" or \"local\".\n# MongoDB connection details (for local MongoDB)\nmongodb_args = {\n    \"cluster_location\": \"local\",  # Keep this for consistency\n    \"db_name\": \"grocery_inventory_db\"\n}",
      "metadata": {
        "trusted": true
      },
      "outputs": [],
      "execution_count": null
    },
    {
      "id": "7f0f0e28-a0ba-40a7-8b26-38e0f08f94d8",
      "cell_type": "code",
      "source": "mysql_args = {\n    \"uid\" : \"root\",\n    \"pwd\" : \"12WQ418bne_1\",\n    \"hostname\" : \"localhost\",\n    \"dbname\" : \"grocery_inventory_db\"\n}\n\n# The 'cluster_location' must either be \"atlas\" or \"local\".\n# MongoDB connection details (for local MongoDB)\nmongodb_args = {\n    \"cluster_location\": \"local\",  # Keep this for consistency\n    \"db_name\": \"grocery_inventory_db\"\n}",
      "metadata": {
        "trusted": true
      },
      "outputs": [],
      "execution_count": null
    },
    {
      "id": "4101c5ca-1238-4143-8144-cce5ba95ac03",
      "cell_type": "code",
      "source": "# Declare & Assign Connection Variables for the MySQL Server & Databases with which You'll be Working\nhost_name = \"localhost\"\nport = \"3306\"\nuser_id = \"root\"\npwd = \"Wishbone1\"\n\nsrc_dbname = \"grocery_inventory\"\ndst_dbname = \"grocery_inventory_db\"",
      "metadata": {
        "trusted": true
      },
      "outputs": [],
      "execution_count": null
    },
    {
      "id": "3f1441c0-5d0b-4d43-9a68-9eaf9f409bc2",
      "cell_type": "code",
      "source": "# Fetch grocery inventory data from MySQL\nsql_query = \"SELECT * FROM grocery_inventory;\"\ngrocery_df = pd.read_sql(sql_query, \n                         con=create_engine(f\"mysql+pymysql://{mysql_args['user_id']}:{mysql_args['pwd']}@{mysql_args['host_name']}/{mysql_args['dbname']}\"))\n\n# Get MongoDB client (Atlas or local)\nmongo_client = MongoClient('mongodb://localhost:27017/') if mongodb_args['cluster_location'] == 'local' else MongoClient(\n    f\"mongodb+srv://{mongodb_args['user_name']}:{mongodb_args['password']}@{mongodb_args['cluster_name']}.mongodb.net/\")\n\n# Specify database and collection name\ndb_name = \"grocery_db\"\ncollection_name = \"grocery_inventory\"\n\n# Convert DataFrame to dictionary for MongoDB\ngrocery_data = grocery_df.to_dict(orient=\"records\")\n\n# Insert data into MongoDB\ndb = mongo_client[db_name]\ncollection = db[collection_name]\ncollection.insert_many(grocery_data)\n\nprint(\"Grocery inventory data successfully inserted into MongoDB!\")\n\n# Fetch data from MongoDB to verify insertion\nquery = {}  # Empty query to get all documents\nmongo_data = collection.find(query)\nmongo_df = pd.DataFrame(list(mongo_data))\n\n# Display the first 5 rows\nprint(mongo_df.head())\n\n",
      "metadata": {
        "trusted": true
      },
      "outputs": [],
      "execution_count": null
    },
    {
      "id": "5bf72e67-77bd-4320-9b80-bfef1593ca3b",
      "cell_type": "code",
      "source": "",
      "metadata": {
        "trusted": true
      },
      "outputs": [],
      "execution_count": null
    },
    {
      "id": "79f44146",
      "cell_type": "code",
      "source": "from sqlalchemy import create_engine, text\n\n# MySQL connection details (using mysql_args)\nmysql_args = {\n    \"user_id\": \"root\",\n    \"pwd\": os.getenv(\"12WQ418bne_12\"), \n    \"dbname\": \"grocery_inventory_db\"\n}\n\n# Establish connection\nconn_str = f\"mysql+pymysql://{mysql_args['user_id']}:{mysql_args['pwd']}@{mysql_args['host_name']}/{mysql_args['dbname']}\"\nsqlEngine = create_engine(conn_str)\nconnection = sqlEngine.connect()\n\n# Read and execute SQL schema from file\nsql_file_path = \"DS2002_DimDateProduct.sql\"\nwith open(sql_file_path, \"r\") as file:\n    sql_script = file.read()\n\n# Execute SQL schema\ntry:\n    for statement in sql_script.split(\";\"):\n        if statement.strip():\n            connection.execute(text(statement))\n    print(\"Database schema executed successfully.\")\nexcept Exception as e:\n    print(f\" Error executing schema: {e}\")\n\n# Close connection\nconnection.close()\n\n",
      "metadata": {
        "trusted": true
      },
      "outputs": [],
      "execution_count": null
    },
    {
      "id": "679167c8-d629-40f9-a10d-0ddbb4719f29",
      "cell_type": "code",
      "source": "# Define CSV File Path and Load into MySQL\ndata_dir = os.getcwd()\ndata_file = \"/mnt/data/Cleaned_Grocery_Inventory.csv\"  # Correct file path\n\ndf = pd.read_csv(data_file)\n# Read CSV into Pandas DataFrame\ndf = pd.read_csv(data_file)\n\n# MySQL Connection\nmysql_args = {\n    \"user\": \"root\",  \n    \"password\": os.getenv(\"MYSQL_PASSWORD\"),  \n    \"host\": \"localhost\",\n    \"dbname\": \"grocery_inventory_db\"\n}\nsqlEngine = create_engine(f\"mysql+pymysql://{mysql_args['user']}:{mysql_args['password']}@{mysql_args['host']}/{mysql_args['dbname']}\")\n\ntable_name = \"grocery_inventory\"\ndf.to_sql(name=table_name, con=sqlEngine, if_exists=\"replace\", index=False)\nprint(f\" Data successfully inserted into `{table_name}` table in `{mysql_args['dbname']}` database.\")\n\n# Load Data into MongoDB\nclient = pymongo.MongoClient(\"mongodb://localhost:27017/\")\ndb = client[\"dim_date_product_db\"]\ncollection = db[table_name]  # Define collection name\n\ncollection.insert_many(df.to_dict(orient=\"records\"))\nprint(\" Data successfully inserted into MongoDB.\")\n",
      "metadata": {
        "trusted": true
      },
      "outputs": [],
      "execution_count": null
    },
    {
      "id": "fbf50ac2-63d4-4c2a-9e89-e2aefe6a5c80",
      "cell_type": "code",
      "source": "# Extract Data from MongoDB\ndb = client[\"dim_date_product_db\"]\nquery = {}  # Select all records\ncollection = db[\"dim_date_product\"]\n\n# Load data into DataFrame\ndf_dim_date_product = pd.DataFrame(list(collection.find(query)))\n\n# Display the first 2 rows\ndf_dim_date_product.head(2)\n",
      "metadata": {
        "trusted": true
      },
      "outputs": [],
      "execution_count": null
    },
    {
      "id": "1ca24b16-30aa-4d7f-bd20-406f64fe0923",
      "cell_type": "code",
      "source": "",
      "metadata": {
        "trusted": true
      },
      "outputs": [],
      "execution_count": null
    },
    {
      "id": "23f5b553-ba5a-447c-a21a-8fb9c37fad06",
      "cell_type": "code",
      "source": "# At this point, run the [DS2002 SQL file]\nsql_dim_date = \"SELECT date_key, full_date FROM grocery_inventory_db.dim_date;\"\ndf_dim_date = get_sql_dataframe(sql_dim_date, **mysql_args)\ndf_dim_date.full_date = df_dim_date.full_date.astype('datetime64[ns]').dt.date\ndf_dim_date.head(10)\n",
      "metadata": {
        "trusted": true
      },
      "outputs": [],
      "execution_count": null
    },
    {
      "id": "83860535-3fac-4eab-855e-339248a68c96",
      "cell_type": "code",
      "source": "# Look up the Surrogate Primary Key (date_key) that corresponds to the groceryDate column\ndf_dim_groceryDate = df_dim_date.rename(columns={\"date_key\": \"groceryDate_key\", \"full_date\": \"groceryDate\"})\ndf_grocery_inventory.groceryDate = df_grocery_inventory.groceryDate.astype('datetime64[ns]').dt.date\ndf_grocery_inventory = pd.merge(df_grocery_inventory, df_dim_groceryDate, on='groceryDate', how='left')\ndf_grocery_inventory.drop(['groceryDate'], axis=1, inplace=True)\ndf_grocery_inventory.head(2)",
      "metadata": {
        "trusted": true
      },
      "outputs": [],
      "execution_count": null
    },
    {
      "id": "2e417712-581f-4d57-9480-a3bfbdf8e2af",
      "cell_type": "code",
      "source": "# Load the transformed grocery_inventory DataFrame into the New Data Warehouse\ndef set_dataframe(df, table_name, pk_column, db_operation, **args):\n    '''Create a connection to the MySQL database'''\n    conn_str = f\"mysql+pymysql://{args['uid']}:{args['pwd']}@{args['hostname']}/{args['dbname']}\"\n    sqlEngine = create_engine(conn_str, pool_recycle=3600)\n    connection = sqlEngine.connect()\n\n    print(f\"Inserting into {table_name} with primary key {pk_column}\")\n\n    # Insert or replace data\n    if db_operation == \"insert\":\n        try:\n            df.to_sql(table_name, con=connection, index=False, if_exists='append')\n            print(\"Data inserted successfully.\")\n        except Exception as e:\n            print(f\"Error inserting data into {table_name}: {e}\")\n\n        try:\n            result = connection.execute(f\"SHOW COLUMNS FROM {table_name} LIKE '{pk_column}';\")\n            if not result.fetchone():\n                print(f\"Adding primary key column {pk_column} as AUTO_INCREMENT.\")\n                connection.execute(f\"ALTER TABLE {table_name} ADD COLUMN {pk_column} INT AUTO_INCREMENT PRIMARY KEY;\")\n        except Exception as e:\n            print(f\"Error adding primary key to {table_name}: {e}\")\n\n    elif db_operation == \"replace\":\n        try:\n            df.to_sql(table_name, con=connection, index=False, if_exists='replace')\n            connection.execute(f\"ALTER TABLE {table_name} ADD PRIMARY KEY ({pk_column});\")\n            print(\"Data replaced successfully.\")\n        except Exception as e:\n            print(f\"Error replacing data into {table_name}: {e}\")\n\n    connection.close()\n",
      "metadata": {
        "trusted": true
      },
      "outputs": [],
      "execution_count": null
    },
    {
      "id": "8991fea4-970c-431f-afac-a6beb2a97821",
      "cell_type": "code",
      "source": "# fetching data for dimensions table",
      "metadata": {
        "trusted": true
      },
      "outputs": [],
      "execution_count": null
    },
    {
      "id": "cd388fba-55da-4cdb-8165-356e9a198a39",
      "cell_type": "code",
      "source": "# Fetching data from grocery inventory\nsql_grocery = \"SELECT * FROM grocery_inventory_db.grocery_inventory;\"\ndf_grocery = get_dataframe(user_id, pwd, host_name, src_dbname, sql_grocery)\ndf_grocery.head(2)",
      "metadata": {
        "scrolled": true,
        "trusted": true
      },
      "outputs": [],
      "execution_count": null
    },
    {
      "id": "4df2232c-1c8c-43e0-ba3f-14aeb4d33419",
      "cell_type": "code",
      "source": "# Fetching data from grocery products\nsql_products = \"SELECT * FROM grocery_inventory_db.products;\"\ndf_products = get_dataframe(user_id, pwd, host_name, src_dbname, sql_products)\ndf_products.head(2)",
      "metadata": {
        "trusted": true
      },
      "outputs": [],
      "execution_count": null
    },
    {
      "id": "34a641cc-9072-43c5-af88-262f0c189d8a",
      "cell_type": "code",
      "source": "# Perform any necessary transformations",
      "metadata": {
        "trusted": true
      },
      "outputs": [],
      "execution_count": null
    },
    {
      "id": "c04b7622-7417-4833-b6df-f13eb00d60c5",
      "cell_type": "code",
      "source": "# GROCERY INVENTORY\n\n# 1. Remove unnecessary columns\ndrop_cols = ['supplier_name', 'supplier_contact', 'location', 'expiration_date']\ndf_grocery.drop(drop_cols, axis=1, inplace=True)\n\n# 2. Rename \"item_id\" to \"grocery_id\" for consistency\ndf_grocery.rename(columns={\"item_id\": \"grocery_id\"}, inplace=True)\n\n# 3. Insert a new primary key column\ndf_grocery.insert(0, \"grocery_key\", range(1, df_grocery.shape[0] + 1))\n\n# 4. Display first 2 rows\ndf_grocery.head(2)\n",
      "metadata": {
        "scrolled": true,
        "trusted": true
      },
      "outputs": [],
      "execution_count": null
    },
    {
      "id": "63289b53-af20-4c46-8975-db78d316cbc3",
      "cell_type": "code",
      "source": "# GROCERY PRODUCTS\n\n# 1. Remove unnecessary columns\ndrop_cols = ['brand', 'manufacturer', 'size', 'weight']\ndf_products.drop(drop_cols, axis=1, inplace=True)\n\n# 2. Rename \"product_code\" to \"product_id\"\ndf_products.rename(columns={\"product_code\": \"product_id\"}, inplace=True)\n\n# 3. Insert a new primary key column\ndf_products.insert(0, \"product_key\", range(1, df_products.shape[0] + 1))\n\n# 4. Display first 2 rows\ndf_products.head(2)\n",
      "metadata": {
        "trusted": true
      },
      "outputs": [],
      "execution_count": null
    },
    {
      "id": "2d4d0bc2-e48e-4816-95b9-463fff72ee47",
      "cell_type": "code",
      "source": "# Show all tables in the database\nsql_check_table = \"SHOW TABLES;\"\ndf_tables = get_dataframe(user_id, pwd, host_name, dst_dbname, sql_check_table)\nprint(df_tables)\n",
      "metadata": {
        "trusted": true
      },
      "outputs": [],
      "execution_count": null
    },
    {
      "id": "018f7daa-2fa0-4412-a238-fa8f8756e612",
      "cell_type": "code",
      "source": "# load the Transformed DataFrames into the New Data Warehouse by Creating New Tables",
      "metadata": {
        "trusted": true
      },
      "outputs": [],
      "execution_count": null
    },
    {
      "id": "c1055228-d48d-430e-acd9-11502d645ad1",
      "cell_type": "code",
      "source": "db_operation = \"update\"\n\ntables = [('dim_grocery', df_grocery, 'grocery_key'),\n          ('dim_products', df_products, 'product_key')]\n",
      "metadata": {
        "trusted": true
      },
      "outputs": [],
      "execution_count": null
    },
    {
      "id": "056766c4-8648-4b2c-93e0-526fa07ccc97",
      "cell_type": "code",
      "source": "for table_name, dataframe, primary_key in tables:\n    set_dataframe(dataframe, table_name, primary_key, db_operation, **mysql_args)\n",
      "metadata": {
        "trusted": true
      },
      "outputs": [],
      "execution_count": null
    },
    {
      "id": "97e41c46-4983-47e0-aaa5-cea080b53b9f",
      "cell_type": "code",
      "source": "# creating and populating the fact table called sales_fact",
      "metadata": {
        "trusted": true
      },
      "outputs": [],
      "execution_count": null
    },
    {
      "id": "46fca70e-3f4e-4d8c-b981-ce1946d0dd5a",
      "cell_type": "code",
      "source": "# Show all tables in the database\nsql_check_table = \"SHOW TABLES;\"\ndf_tables = get_dataframe(user_id, pwd, host_name, dst_dbname, sql_check_table)\nprint(df_tables)\n",
      "metadata": {
        "trusted": true
      },
      "outputs": [],
      "execution_count": null
    },
    {
      "id": "afb14f0d-a021-4ddb-a9da-ee31b176a3d7",
      "cell_type": "code",
      "source": "sql_sales_fact = \"\"\"\nSELECT \n    g.grocery_key, \n    py.payment_key, \n    py.amount AS total_price,\n    py.paymentDate_key\nFROM dim_payments py\nJOIN dim_grocery g ON py.item_id = g.grocery_key\n\"\"\"\n\ndf_sales_fact = get_dataframe(user_id, pwd, host_name, dst_dbname, sql_sales_fact)\nprint(df_sales_fact.shape)  # Ensure data exists\nprint(df_sales_fact.head(2))  # Check first 2 rows\n\n",
      "metadata": {
        "trusted": true
      },
      "outputs": [],
      "execution_count": null
    },
    {
      "id": "e2e07042-65ea-40c6-9606-cd0d2eb128c2",
      "cell_type": "code",
      "source": "# Insert a new primary key column\ndf_sales_fact.insert(0, \"sales_fact_key\", range(1, df_sales_fact.shape[0] + 1))\n\n# Display first 2 rows\ndf_sales_fact.head(2)\n",
      "metadata": {
        "trusted": true
      },
      "outputs": [],
      "execution_count": null
    },
    {
      "id": "aa6fa645-5882-4d8b-824e-8cf9f26c3ae1",
      "cell_type": "code",
      "source": "## Insert data into the sales_fact table\ndf_sales_fact.to_sql('sales_fact', con=sqlEngine, if_exists='replace', index=False)\n\nprint(\"Data successfully inserted into the sales_fact table.\")\ndf_sales_fact.head(5)\n",
      "metadata": {
        "trusted": true
      },
      "outputs": [],
      "execution_count": null
    },
    {
      "id": "3a401fc0-eb49-4dbe-be3a-53a1b7a3ed4f",
      "cell_type": "code",
      "source": "# Ensure that the new data warehouse contains the correct data\nsql_check_dw = \"SHOW TABLES;\"\ndf_dw_tables = get_dataframe(user_id, pwd, host_name, dst_dbname, sql_check_dw)\nprint(df_dw_tables)",
      "metadata": {
        "trusted": true
      },
      "outputs": [],
      "execution_count": null
    },
    {
      "id": "70d6f1eb-ad46-427b-bbb5-e89e11f97215",
      "cell_type": "code",
      "source": "# Retrieve total sales data for each grocery item\nsql_query = \"\"\"\nSELECT \n    g.grocery_key, \n    g.item_name, \n    COUNT(sf.sales_fact_key) AS total_sales, \n    SUM(py.amount) AS total_revenue, \n    AVG(py.amount) AS avg_payment_amount\nFROM sales_fact sf\nJOIN dim_payments py ON sf.payment_key = py.payment_key\nJOIN dim_grocery g ON py.item_id = g.grocery_key\nGROUP BY g.grocery_key, g.item_name\nORDER BY total_revenue DESC;\n\"\"\"\n\n# Execute the SQL query and load results into Pandas DataFrame\ndf_total_sales_by_item = pd.read_sql(sql_query, sqlEngine)\n\n# Display first 2 rows\nprint(df_total_sales_by_item.head(2))\n",
      "metadata": {
        "trusted": true
      },
      "outputs": [],
      "execution_count": null
    },
    {
      "id": "65081c86-3f69-493c-8b41-591167e66e9d",
      "cell_type": "code",
      "source": "",
      "metadata": {
        "trusted": true
      },
      "outputs": [],
      "execution_count": null
    },
    {
      "id": "09229cb3-fedc-477b-82a3-92b8c9f2ff66",
      "cell_type": "code",
      "source": "",
      "metadata": {
        "trusted": true
      },
      "outputs": [],
      "execution_count": null
    },
    {
      "id": "3ba476d9-32f0-4c68-a257-4398f5d196ff",
      "cell_type": "code",
      "source": "",
      "metadata": {
        "trusted": true
      },
      "outputs": [],
      "execution_count": null
    },
    {
      "id": "ff488595-f880-40ba-9dd7-4b89cbb2e25d",
      "cell_type": "code",
      "source": "",
      "metadata": {
        "trusted": true
      },
      "outputs": [],
      "execution_count": null
    },
    {
      "id": "c468764a-13b5-484d-8e47-0d3b68f637f7",
      "cell_type": "code",
      "source": "",
      "metadata": {
        "trusted": true
      },
      "outputs": [],
      "execution_count": null
    },
    {
      "id": "b08b2995-aa74-4dc6-a99f-03ee13d49063",
      "cell_type": "code",
      "source": "",
      "metadata": {
        "trusted": true
      },
      "outputs": [],
      "execution_count": null
    },
    {
      "id": "1997aab2-67aa-49b4-a46a-2e33d794cf9d",
      "cell_type": "code",
      "source": "",
      "metadata": {
        "trusted": true
      },
      "outputs": [],
      "execution_count": null
    },
    {
      "id": "1f90cdd4-0ae4-432b-bc0e-4d3b1b5cafef",
      "cell_type": "code",
      "source": "",
      "metadata": {
        "trusted": true
      },
      "outputs": [],
      "execution_count": null
    },
    {
      "id": "e462bed1-70aa-4d8a-8eeb-209a12354982",
      "cell_type": "code",
      "source": "",
      "metadata": {
        "trusted": true
      },
      "outputs": [],
      "execution_count": null
    },
    {
      "id": "c8435b6b-ebf8-4f77-ba27-f21a3b9cc33d",
      "cell_type": "code",
      "source": "",
      "metadata": {
        "trusted": true
      },
      "outputs": [],
      "execution_count": null
    },
    {
      "id": "f4928750-06ee-4ac0-922e-6d9feb61b4a8",
      "cell_type": "code",
      "source": "",
      "metadata": {
        "trusted": true
      },
      "outputs": [],
      "execution_count": null
    },
    {
      "id": "74976700-5a25-420e-a89f-327c53c1654f",
      "cell_type": "code",
      "source": "",
      "metadata": {
        "trusted": true
      },
      "outputs": [],
      "execution_count": null
    },
    {
      "id": "699b0119-e3b6-4389-9e72-f2140fedb845",
      "cell_type": "code",
      "source": "",
      "metadata": {
        "trusted": true
      },
      "outputs": [],
      "execution_count": null
    },
    {
      "id": "1e5aab4a-8b44-455b-a334-8bf18686de0f",
      "cell_type": "code",
      "source": "",
      "metadata": {
        "trusted": true
      },
      "outputs": [],
      "execution_count": null
    },
    {
      "id": "a54a7d59-c21f-410d-8468-3ef27c3f0f03",
      "cell_type": "code",
      "source": "",
      "metadata": {
        "trusted": true
      },
      "outputs": [],
      "execution_count": null
    },
    {
      "id": "5d0bb50b-7882-48cb-a55a-1cb9e05275fe",
      "cell_type": "code",
      "source": "",
      "metadata": {
        "trusted": true
      },
      "outputs": [],
      "execution_count": null
    },
    {
      "id": "12a2d7a8-0ef8-4419-bb60-d39285fa0fa5",
      "cell_type": "code",
      "source": "",
      "metadata": {
        "trusted": true
      },
      "outputs": [],
      "execution_count": null
    }
  ]
}